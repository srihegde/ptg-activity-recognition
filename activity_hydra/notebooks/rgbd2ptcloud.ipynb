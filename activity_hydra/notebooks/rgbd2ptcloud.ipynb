{
 "cells": [
  {
   "cell_type": "markdown",
   "id": "f5fe794e",
   "metadata": {},
   "source": [
    "# Save Point Cloud Data - H2O dataset "
   ]
  },
  {
   "cell_type": "code",
   "execution_count": null,
   "id": "d0acb1d8",
   "metadata": {},
   "outputs": [],
   "source": [
    "import os\n",
    "import numpy as np\n",
    "import cv2\n",
    "import open3d as o3d\n",
    "import tqdm"
   ]
  },
  {
   "cell_type": "code",
   "execution_count": null,
   "id": "b71a41d6",
   "metadata": {},
   "outputs": [],
   "source": [
    "def read_text(text_path, offset=0, half=0):\n",
    "    with open(text_path, 'r') as txt_file:\n",
    "        data = txt_file.readline().split(\" \")\n",
    "        data = list(filter(lambda x: x != \"\", data))\n",
    "\n",
    "    if half:\n",
    "        data_list = np.array(data)[offset:half].tolist(\n",
    "        ) + np.array(data)[half+offset:].tolist()\n",
    "        return np.array(data_list).reshape((-1, 3)).astype(np.float32)\n",
    "    else:\n",
    "        return np.array(data)[offset:].reshape((-1, 3)).astype(np.float32)\n",
    "\n",
    "def cal_points2d(depth_img):\n",
    "    points_2d = []\n",
    "    for u in np.arange(depth_img.shape[1]):\n",
    "        for v in np.arange(depth_img.shape[0]):\n",
    "            points_2d.append(np.array([u, v]).reshape((1, -1)))\n",
    "    points_2d = np.vstack(points_2d)\n",
    "    return points_2d\n",
    "\n",
    "\n",
    "def get_xyz_from_depth(depth_img, cam_mtx, points_2d, refl_img=None, ir=False):\n",
    "    # The valid range is between 50cm and 3.86 m (NFOV unbinned), 5.46 m NFOV 2x2 binned (SW)\n",
    "    Z_MIN = 0.5  # 0.25\n",
    "    if ir:\n",
    "        Z_MAX = 5.00\n",
    "    else:\n",
    "        Z_MAX = 3.86  # 2.88\n",
    "\n",
    "    fx = cam_mtx[0, 0]\n",
    "    fy = cam_mtx[1, 1]\n",
    "    cx = cam_mtx[0, 2]\n",
    "    cy = cam_mtx[1, 2]\n",
    "    do_colors = refl_img is not None\n",
    "\n",
    "    x_vec = (points_2d[:, 0]-cx)*(depth_img.T).reshape(1, -1) / fx\n",
    "    y_vec = (points_2d[:, 1]-cy)*(depth_img.T).reshape(1, -1) / fy\n",
    "    z_vec = (depth_img.T).reshape(1, -1)\n",
    "    mask = np.where((Z_MIN < z_vec[0]) & (Z_MAX > z_vec[0]))\n",
    "    points = np.array([x_vec[0], y_vec[0], z_vec[0]]).T\n",
    "\n",
    "    if do_colors:\n",
    "        color = (refl_img/255.).astype(np.float64)\n",
    "        color = np.swapaxes(color, 0, 1)\n",
    "        colors = color.reshape((-1, 3))\n",
    "        colors = np.flip(colors, 1)\n",
    "        mask_color = np.where((Z_MIN < z_vec[0]) & (Z_MAX > z_vec[0]))\n",
    "\n",
    "        return points[mask], colors[mask]\n",
    "    else:\n",
    "        return points[mask]\n",
    "\n",
    "\n",
    "def compute_pcloud(depth_img, refl_img, cam, points_2d, scale_to_m=False, rgb=False, ir=False):\n",
    "\n",
    "    if scale_to_m:\n",
    "        depth_img = depth_img.astype(float)/1000.\n",
    "\n",
    "    # if (rgb==True):\n",
    "    #    points, colors = get_xyz_from_depth(depth_img, cam.new_cam_mtx, points_2d,refl_img,True)\n",
    "    # else:\n",
    "    points, colors = get_xyz_from_depth(\n",
    "        depth_img, cam, points_2d, refl_img, ir)\n",
    "    pcloud = o3d.geometry.PointCloud()\n",
    "    pcloud.points = o3d.utility.Vector3dVector(points)\n",
    "    pcloud.colors = o3d.utility.Vector3dVector(colors)\n",
    "    return pcloud\n",
    "\n",
    "\n",
    "def get_pointcloud(depth_path, refl_path, calib, points_2d, rgb=0, ir=False):\n",
    "    depth_img = cv2.imread(\n",
    "        depth_path, cv2.IMREAD_ANYCOLOR | cv2.IMREAD_ANYDEPTH)\n",
    "    refl_img = cv2.imread(refl_path, cv2.IMREAD_ANYCOLOR | cv2.IMREAD_ANYDEPTH)\n",
    "    if ir:\n",
    "        refl_img = cv2.cvtColor(refl_img, cv2.COLOR_GRAY2RGB)\n",
    "    pcloud = compute_pcloud(depth_img, refl_img, calib,\n",
    "                            points_2d, scale_to_m=True, ir=ir)\n",
    "    #pcloud, ind0 = pcloud.remove_radius_outlier(nb_points = NB_POINTS, radius = RADIOUS)\n",
    "    return pcloud"
   ]
  },
  {
   "cell_type": "code",
   "execution_count": null,
   "id": "24ced858",
   "metadata": {},
   "outputs": [],
   "source": [
    "# Save point cloud data for H2O dataset\n",
    "root_dir = '/home/local/KHQ/sri.hegde/kitware/activity_recognition/datasets/h2o/'\n",
    "train_file = os.path.join(root_dir, 'label_split/pose_train.txt')\n",
    "\n",
    "with open(train_file) as f:\n",
    "    lines = f.readlines()\n",
    "    frame_list = [os.path.join(root_dir, line.strip()) for line in lines]\n",
    "\n",
    "depth_img = cv2.imread(os.path.join('/'.join(frame_list[0].split('/')[:-2]), 'depth/000000.png'), cv2.IMREAD_ANYDEPTH)\n",
    "point2d = cal_points2d(depth_img)\n",
    "\n",
    "# print(len(frame_list))\n",
    "for fname in tqdm.tqdm(frame_list):\n",
    "    frm_name = os.path.splitext(os.path.basename(fname))[0]\n",
    "    undist_depth = os.path.join('/'.join(fname.split('/')[:-2]), 'depth',f'{frm_name}.png')\n",
    "    undist_rgb = fname\n",
    "    calib_path = os.path.join('/'.join(fname.split('/')[:-2]), 'cam_intrinsics.txt')\n",
    "    cam_fx, cam_fy, cam_cx, cam_cy, _, _ = read_text(calib_path).reshape((6))\n",
    "    color_calib = np.array([[cam_fx, 0, cam_cx], [0, cam_fy, cam_cy], [0, 0, 1]])\n",
    "    \n",
    "    pcloud = get_pointcloud(undist_depth, undist_rgb, color_calib, point2d)\n",
    "    cam_pose_path = os.path.join('/'.join(fname.split('/')[:-2]), 'cam_pose',f'{frm_name}.txt')\n",
    "    with open(cam_pose_path, 'r') as txt_file:\n",
    "        data = txt_file.readline().split(\" \")\n",
    "        data = list(filter(lambda x: x != \"\", data))\n",
    "\n",
    "    cam_pose = np.array(data).astype(np.float).reshape((4, 4))\n",
    "    pcloud.transform(cam_pose)\n",
    "    pcloud = np.asarray(pcloud.points)\n",
    "\n",
    "    pc_path='/'.join(fname.split('/')[:-2] + ['pc'])\n",
    "    if not os.path.exists(pc_path):\n",
    "        os.makedirs(pc_path)\n",
    "    pc_path = os.path.join(pc_path,f'{frm_name}.txt')\n",
    "#     print(pc_path)\n",
    "    np.savetxt(pc_path, pcloud)"
   ]
  }
 ],
 "metadata": {
  "kernelspec": {
   "display_name": "Python [conda env:myenv] *",
   "language": "python",
   "name": "conda-env-myenv-py"
  },
  "language_info": {
   "codemirror_mode": {
    "name": "ipython",
    "version": 3
   },
   "file_extension": ".py",
   "mimetype": "text/x-python",
   "name": "python",
   "nbconvert_exporter": "python",
   "pygments_lexer": "ipython3",
   "version": "3.8.13"
  },
  "latex_envs": {
   "LaTeX_envs_menu_present": true,
   "autoclose": false,
   "autocomplete": true,
   "bibliofile": "biblio.bib",
   "cite_by": "apalike",
   "current_citInitial": 1,
   "eqLabelWithNumbers": true,
   "eqNumInitial": 1,
   "hotkeys": {
    "equation": "Ctrl-E",
    "itemize": "Ctrl-I"
   },
   "labels_anchors": false,
   "latex_user_defs": false,
   "report_style_numbering": false,
   "user_envs_cfg": false
  },
  "varInspector": {
   "cols": {
    "lenName": 16,
    "lenType": 16,
    "lenVar": 40
   },
   "kernels_config": {
    "python": {
     "delete_cmd_postfix": "",
     "delete_cmd_prefix": "del ",
     "library": "var_list.py",
     "varRefreshCmd": "print(var_dic_list())"
    },
    "r": {
     "delete_cmd_postfix": ") ",
     "delete_cmd_prefix": "rm(",
     "library": "var_list.r",
     "varRefreshCmd": "cat(var_dic_list()) "
    }
   },
   "types_to_exclude": [
    "module",
    "function",
    "builtin_function_or_method",
    "instance",
    "_Feature"
   ],
   "window_display": false
  }
 },
 "nbformat": 4,
 "nbformat_minor": 5
}
