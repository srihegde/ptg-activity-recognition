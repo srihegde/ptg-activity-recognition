{
 "cells": [
  {
   "cell_type": "code",
   "execution_count": null,
   "id": "17edb207",
   "metadata": {},
   "outputs": [],
   "source": [
    "import sys\n",
    "import os\n",
    "\n",
    "\n",
    "def import_modules(libpath):\n",
    "    path2add = os.path.normpath(os.path.abspath(os.path.join(os.path.dirname(\n",
    "        libpath), os.path.pardir)))\n",
    "    print(f'Adding path: {path2add}')\n",
    "    if (not (path2add in sys.path)):\n",
    "        sys.path.append(path2add)"
   ]
  },
  {
   "cell_type": "code",
   "execution_count": null,
   "id": "76c35490",
   "metadata": {},
   "outputs": [],
   "source": [
    "from torchvision.models.feature_extraction import create_feature_extractor\n",
    "from torchvision.models.feature_extraction import get_graph_node_names\n",
    "from torch import nn\n",
    "import torch\n",
    "\n",
    "import_modules('../src/models/components')\n",
    "from datamodules.components.frame_dataset import H2OFrameDataset\n",
    "from models.components.unified_fcn import UnifiedFCNModule"
   ]
  },
  {
   "cell_type": "code",
   "execution_count": null,
   "id": "8834ebee",
   "metadata": {},
   "outputs": [],
   "source": [
    "# Test the datahandler/dataloader implementation\n",
    "dataset = H2OFrameDataset(\n",
    "    '../data/h2o/', '../data/h2o/label_split/pose_train.txt')\n",
    "data = dataset[2]\n",
    "print(data.keys())"
   ]
  },
  {
   "cell_type": "code",
   "execution_count": null,
   "id": "13167101",
   "metadata": {},
   "outputs": [],
   "source": [
    "# Utility functions to create grid data\n",
    "\n",
    "def conf_func(dist, alpha, dth):\n",
    "    dist = np.sqrt(np.sum((dist)**2, axis=-1))\n",
    "    mask = (dist < dth)\n",
    "    conf = np.exp(alpha*(1 - dist/dth))\n",
    "    conf = mask * conf\n",
    "    mean_conf = np.mean(conf, axis=-1)\n",
    "    return mean_conf\n",
    "\n",
    "\n",
    "def corner_confidences(cp_pred_np: np.ndarray, obj_pose: np.ndarray, l_hand: np.ndarray, r_hand: np.ndarray, alpha: float = 2.0, dth=[75, 75, 7.5]):\n",
    "    cp_gt = np.stack([obj_pose, l_hand, r_hand])\n",
    "    cp_gt = cp_gt.reshape(cp_gt.shape[:-1] + (-1, 3))\n",
    "    cp_pred_np = cp_pred_np.reshape(cp_pred_np.shape[:-1] + (-1, 3))\n",
    "    dist = cp_gt - cp_pred_np[:, :, ]\n",
    "    c_uv = conf_func(dist[..., :2], alpha, dth[0])\n",
    "    z_mask = (dist[..., -1] < dth[-1])\n",
    "    c_z = np.mean(z_mask * np.abs(dist[..., -1]), axis=-1)\n",
    "    conf = 0.5*(c_uv + c_z)\n",
    "\n",
    "    return conf"
   ]
  },
  {
   "cell_type": "code",
   "execution_count": null,
   "id": "49f11a70",
   "metadata": {},
   "outputs": [],
   "source": [
    "# Test the working of Unified FCN\n",
    "ufcn = UnifiedFCNModule('convnext_tiny', 21, 9, 12)\n",
    "net = ufcn.net\n",
    "train_nodes, _ = get_graph_node_names(net)\n",
    "\n",
    "net = create_feature_extractor(\n",
    "    net, return_nodes={'features.7.2.block.4': 'feat_out'})\n",
    "out = net(torch.rand(1, 3, 416, 416))\n",
    "x = out['feat_out']\n",
    "out_channels = 5 * 3 * (3 * ufcn.num_cpts + 1 +\n",
    "                        ufcn.obj_classes + ufcn.verb_classes)\n",
    "lin = nn.Linear(x.shape[-1], out_channels)\n",
    "x = lin(x)\n",
    "# x = x.permute(0, 3, 1, 2)\n",
    "\n",
    "bsize, _, h, w = x.size()\n",
    "x_reshaped = x.contiguous().view(bsize, -1, 3, 3 * ufcn.num_cpts +\n",
    "                                 1 + ufcn.obj_classes + ufcn.verb_classes)\n",
    "# print(x.shape)\n",
    "\n",
    "# vector indices (at position 2): 0 -> object, 1 -> l_hand, 2 -> r_hand\n",
    "cp_pred = torch.sigmoid(x_reshaped[:, :, :, 0:3 * ufcn.num_cpts])\n",
    "conf_pred = x_reshaped[:, :, :, 3 * ufcn.num_cpts].contiguous()\n",
    "obj_pred = torch.sigmoid(\n",
    "    x_reshaped[:, :, 0, 3 * ufcn.num_cpts+1: 3 * ufcn.num_cpts+1+ufcn.obj_classes])\n",
    "l_verb_pred = torch.sigmoid(x_reshaped[:, :, 1, 3 * ufcn.num_cpts+1 +\n",
    "                            ufcn.obj_classes: 3 * ufcn.num_cpts+1+ufcn.obj_classes+ufcn.verb_classes])\n",
    "r_verb_pred = torch.sigmoid(x_reshaped[:, :, 2, 3 * ufcn.num_cpts+1 +\n",
    "                            ufcn.obj_classes: 3 * ufcn.num_cpts+1+ufcn.obj_classes+ufcn.verb_classes])\n",
    "\n",
    "print(cp_pred.shape, conf_pred.shape, obj_pred.shape,\n",
    "      l_verb_pred.shape, r_verb_pred.shape)"
   ]
  },
  {
   "cell_type": "code",
   "execution_count": null,
   "id": "96620180",
   "metadata": {},
   "outputs": [],
   "source": [
    "# Confidence computation\n",
    "l_hand, r_hand, obj_label, obj_pose, verb = data['l_hand'], data[\n",
    "    'r_hand'], data['obj_label'], data['obj_pose'], data['verb']\n",
    "conf = corner_confidences(cp_pred.data.cpu().numpy(), obj_pose, l_hand, r_hand)\n",
    "# print(conf.shape)\n",
    "\n",
    "noho_scale = 0.1\n",
    "ho_scale = 5\n",
    "conf_mask = np.ones_like(conf)*noho_scale\n",
    "print(conf_mask.shape)"
   ]
  },
  {
   "cell_type": "code",
   "execution_count": null,
   "id": "7f5f3871",
   "metadata": {},
   "outputs": [],
   "source": [
    "# Control points computation\n"
   ]
  }
 ],
 "metadata": {
  "kernelspec": {
   "display_name": "Python [conda env:myenv] *",
   "language": "python",
   "name": "conda-env-myenv-py"
  },
  "language_info": {
   "codemirror_mode": {
    "name": "ipython",
    "version": 3
   },
   "file_extension": ".py",
   "mimetype": "text/x-python",
   "name": "python",
   "nbconvert_exporter": "python",
   "pygments_lexer": "ipython3",
   "version": "3.8.13"
  },
  "latex_envs": {
   "LaTeX_envs_menu_present": true,
   "autoclose": false,
   "autocomplete": true,
   "bibliofile": "biblio.bib",
   "cite_by": "apalike",
   "current_citInitial": 1,
   "eqLabelWithNumbers": true,
   "eqNumInitial": 1,
   "hotkeys": {
    "equation": "Ctrl-E",
    "itemize": "Ctrl-I"
   },
   "labels_anchors": false,
   "latex_user_defs": false,
   "report_style_numbering": false,
   "user_envs_cfg": false
  },
  "varInspector": {
   "cols": {
    "lenName": 16,
    "lenType": 16,
    "lenVar": 40
   },
   "kernels_config": {
    "python": {
     "delete_cmd_postfix": "",
     "delete_cmd_prefix": "del ",
     "library": "var_list.py",
     "varRefreshCmd": "print(var_dic_list())"
    },
    "r": {
     "delete_cmd_postfix": ") ",
     "delete_cmd_prefix": "rm(",
     "library": "var_list.r",
     "varRefreshCmd": "cat(var_dic_list()) "
    }
   },
   "types_to_exclude": [
    "module",
    "function",
    "builtin_function_or_method",
    "instance",
    "_Feature"
   ],
   "window_display": false
  }
 },
 "nbformat": 4,
 "nbformat_minor": 5
}
