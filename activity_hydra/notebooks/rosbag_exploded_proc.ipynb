{
 "cells": [
  {
   "cell_type": "code",
   "execution_count": 1,
   "id": "f103468f",
   "metadata": {},
   "outputs": [],
   "source": [
    "import os\n",
    "from os import path as osp\n",
    "import shutil\n",
    "import tqdm\n",
    "import json\n",
    "import numpy as np\n",
    "import matplotlib.pyplot as plt\n",
    "import csv"
   ]
  },
  {
   "cell_type": "code",
   "execution_count": 2,
   "id": "8e9dccd2",
   "metadata": {},
   "outputs": [
    {
     "name": "stdout",
     "output_type": "stream",
     "text": [
      "16015 7854\n"
     ]
    }
   ],
   "source": [
    "# Load data\n",
    "hand = json.load(open(\"./hand_pose_data.txt\"))\n",
    "img_dir = \"./images/\"\n",
    "imgs = os.listdir(img_dir)\n",
    "print(len(hand), len(imgs))\n",
    "save_path = \"./data\"\n",
    "annotation_csv = \"./filter_paper_v2.csv\""
   ]
  },
  {
   "cell_type": "code",
   "execution_count": 3,
   "id": "b85c4507",
   "metadata": {},
   "outputs": [],
   "source": [
    "# Helpers to save synced data to disk\n",
    "def get_hand_pose_from_msg(msg):\n",
    "    hand_joints = [{\"joint\": m[\"joint\"], \"position\": m[\"position\"]}\n",
    "                   for m in msg[\"joint_poses\"]]\n",
    "\n",
    "    # Rejecting joints not in OpenPose hand skeleton format\n",
    "    reject_joint_list = ['ThumbMetacarpalJoint',\n",
    "                         'IndexMetacarpal',\n",
    "                         'MiddleMetacarpal',\n",
    "                         'RingMetacarpal',\n",
    "                         'PinkyMetacarpal']\n",
    "    joint_pos = []\n",
    "    for j in hand_joints:\n",
    "        if j[\"joint\"] not in reject_joint_list:\n",
    "            joint_pos.append(j[\"position\"])\n",
    "    joint_pos = np.array(joint_pos).flatten()\n",
    "\n",
    "    # Appending 1 as per H2O requirement\n",
    "    if msg[\"hand\"] == 'Right':\n",
    "        rhand = np.concatenate([[1], joint_pos])\n",
    "        lhand = np.zeros_like(rhand)\n",
    "    elif msg[\"hand\"] == 'Left':\n",
    "        lhand = np.concatenate([[1], joint_pos])\n",
    "        rhand = np.zeros_like(lhand)\n",
    "    else:\n",
    "        lhand = np.zeros_like(len(joint_pos)+1)\n",
    "        rhand = np.zeros_like(len(joint_pos)+1)\n",
    "\n",
    "    return lhand, rhand\n",
    "\n",
    "\n",
    "def write_synced_data(mmdata, fpath):\n",
    "    idx = 0\n",
    "    format_str = \"{:06d}\"\n",
    "    for fn in tqdm.tqdm(mmdata):\n",
    "        src_img_name = osp.join(\"images\", fn)\n",
    "        dst_img_name = osp.join(\n",
    "            fpath, \"rgb\", format_str.format(idx)+'.png')\n",
    "        shutil.copy(src_img_name, dst_img_name)\n",
    "\n",
    "        if len(mmdata[fn]) > 0:\n",
    "            # Get the most recent hand pose info for each frame\n",
    "            lhand, rhand = get_hand_pose_from_msg(mmdata[fn][-1])\n",
    "        else:\n",
    "            lhand = np.zeros(64)\n",
    "            rhand = np.zeros(64)\n",
    "\n",
    "        hpose_name = osp.join(fpath, \"hand_pose\",\n",
    "                              format_str.format(idx)+'.txt')\n",
    "        hpose = np.concatenate([lhand, rhand])\n",
    "        np.savetxt(hpose_name, hpose, newline=\" \")\n",
    "\n",
    "        idx += 1\n",
    "\n",
    "\n",
    "def create_activity_annotations(csv_name, annotations):\n",
    "    csv_reader = csv.reader(open(csv_name))\n",
    "    rows = [x for x in csv_reader]\n",
    "    h2o_data = [[\"id\", \"path\", \"action_label\", \"start_act\",\n",
    "                \"end_act\", \"start_frame\", \"end_frame\"]]\n",
    "\n",
    "    for i in range(2, len(rows), 2):\n",
    "        idx = rows[i][0]\n",
    "        path = \"data/rgb/\"\n",
    "        action_label = annotations[rows[i][-2]]\n",
    "        start_act = rows[i][2]\n",
    "        end_act = rows[i+1][2]\n",
    "        start_frame = '0'\n",
    "        end_frame = str(len(imgs))\n",
    "        h2o_data.append(\n",
    "            [idx, path, action_label, start_act, end_act, start_frame, end_frame]\n",
    "        )\n",
    "        \n",
    "    h2o_data = [' '.join(x) for x in h2o_data]\n",
    "    np.savetxt('data/action_annotations.txt', np.array(\n",
    "        h2o_data, dtype=object), delimiter=\" \", fmt=\"%s\")"
   ]
  },
  {
   "cell_type": "code",
   "execution_count": 5,
   "id": "961da635",
   "metadata": {
    "scrolled": true
   },
   "outputs": [
    {
     "name": "stdout",
     "output_type": "stream",
     "text": [
      "Is hand pose data sorted?  True\n"
     ]
    }
   ],
   "source": [
    "# Sync the multi-streamed data\n",
    "imgs = sorted(imgs)\n",
    "hand_ts = [x['time_sec']+(x['time_nanosec']*1e-9) for x in hand]\n",
    "\n",
    "print('Is hand pose data sorted? ', hand_ts == sorted(hand_ts))\n",
    "slop = 1e-1    # In seconds\n",
    "mm_dict = {fn: [] for fn in imgs}\n",
    "i, j = 0, 0\n",
    "\n",
    "# Each frame has multiple hand samples. The unassigned hand \n",
    "# samples are assigned to the most recent frame (if it is \n",
    "# within slop interval) We assign the most recent detected hand\n",
    "# to the frame within slop parameter.\n",
    "while i < len(imgs) and j < len(hand_ts):\n",
    "    fnum, ts, tns = map(int, imgs[i].strip().split('.')[0].split('_')[1:])\n",
    "    tsec = ts+(tns*1e-9)\n",
    "    if (tsec - hand_ts[j]) < slop:\n",
    "        if tsec >= hand_ts[j]:\n",
    "            mm_dict[imgs[i]].append(hand[j])\n",
    "            j += 1\n",
    "        else:\n",
    "            i += 1\n",
    "    else:\n",
    "        j += 1"
   ]
  },
  {
   "cell_type": "code",
   "execution_count": 130,
   "id": "42eea61e",
   "metadata": {},
   "outputs": [
    {
     "name": "stdout",
     "output_type": "stream",
     "text": [
      "7854 5489\n"
     ]
    },
    {
     "data": {
      "image/png": "[encoded data removed]",
      "text/plain": [
       "<Figure size 432x288 with 1 Axes>"
      ]
     },
     "metadata": {
      "needs_background": "light"
     },
     "output_type": "display_data"
    }
   ],
   "source": [
    "# Histogram of number of hand-pose samples for each frame\n",
    "dlen = [len(mm_dict[x]) for x in mm_dict]\n",
    "print(len(dlen), len(np.nonzero(dlen)[0]))\n",
    "plt.hist(dlen, bins=100)\n",
    "plt.show()"
   ]
  },
  {
   "cell_type": "code",
   "execution_count": 6,
   "id": "c0657f0a",
   "metadata": {},
   "outputs": [
    {
     "name": "stderr",
     "output_type": "stream",
     "text": [
      "100%|█████████████████████████████████████████████████████████████████████████████████████████████████████████████████████████████████████████████████████████████████| 7854/7854 [01:15<00:00, 104.07it/s]\n"
     ]
    }
   ],
   "source": [
    "# Save the data to disk\n",
    "write_synced_data(mm_dict, save_path)"
   ]
  },
  {
   "cell_type": "code",
   "execution_count": 152,
   "id": "c51a9e89",
   "metadata": {},
   "outputs": [
    {
     "name": "stdout",
     "output_type": "stream",
     "text": [
      "['id path action_label start_act end_act start_frame end_frame', '0 data/images/ 1 329 421 0 7854', '1 data/images/ 2 491 816 0 7854', '2 data/images/ 3 842 981 0 7854', '3 data/images/ 4 1021 1076 0 7854', '4 data/images/ 5 1098 1212 0 7854', '5 data/images/ 1 2153 2288 0 7854', '6 data/images/ 2 2310 2446 0 7854', '7 data/images/ 3 2452 2596 0 7854', '8 data/images/ 4 2640 2768 0 7854', '9 data/images/ 5 2775 2889 0 7854', '10 data/images/ 1 3310 3390 0 7854', '11 data/images/ 2 3415 3584 0 7854', '12 data/images/ 3 3593 3829 0 7854', '13 data/images/ 4 3892 4002 0 7854', '14 data/images/ 5 4013 4298 0 7854', '15 data/images/ 1 4946 5016 0 7854', '16 data/images/ 2 5093 5342 0 7854', '17 data/images/ 3 5517 5671 0 7854', '18 data/images/ 5 5697 5843 0 7854', '19 data/images/ 0 6572 6747 0 7854', '20 data/images/ 1 6810 6865 0 7854', '21 data/images/ 2 6927 7051 0 7854', '22 data/images/ 3 7077 7212 0 7854', '23 data/images/ 4 7264 7355 0 7854', '24 data/images/ 5 7381 7549 0 7854']\n"
     ]
    }
   ],
   "source": [
    "# Create activity class annotations\n",
    "annotations = [\"background\",\n",
    "               \"place the dripper on top of the mug\",\n",
    "               \"take the coffee filter and fold it in half to create a semi-circle\",\n",
    "               \"Fold the filter in half again to create a quarter-circle\",\n",
    "               \"place the folded filter into the dripper such that the point of the quarter-circle rests in the center of the dripper\",\n",
    "               \"spread the filter open to create a cone inside the dripper\"]\n",
    "annotations = {annotations[i]: str(i) for i in range(len(annotations))}\n",
    "create_activity_annotations(annotation_csv, annotations)"
   ]
  }
 ],
 "metadata": {
  "kernelspec": {
   "display_name": "Python [conda env:myenv] *",
   "language": "python",
   "name": "conda-env-myenv-py"
  },
  "language_info": {
   "codemirror_mode": {
    "name": "ipython",
    "version": 3
   },
   "file_extension": ".py",
   "mimetype": "text/x-python",
   "name": "python",
   "nbconvert_exporter": "python",
   "pygments_lexer": "ipython3",
   "version": "3.8.13"
  },
  "latex_envs": {
   "LaTeX_envs_menu_present": true,
   "autoclose": false,
   "autocomplete": true,
   "bibliofile": "biblio.bib",
   "cite_by": "apalike",
   "current_citInitial": 1,
   "eqLabelWithNumbers": true,
   "eqNumInitial": 1,
   "hotkeys": {
    "equation": "Ctrl-E",
    "itemize": "Ctrl-I"
   },
   "labels_anchors": false,
   "latex_user_defs": false,
   "report_style_numbering": false,
   "user_envs_cfg": false
  },
  "varInspector": {
   "cols": {
    "lenName": 16,
    "lenType": 16,
    "lenVar": 40
   },
   "kernels_config": {
    "python": {
     "delete_cmd_postfix": "",
     "delete_cmd_prefix": "del ",
     "library": "var_list.py",
     "varRefreshCmd": "print(var_dic_list())"
    },
    "r": {
     "delete_cmd_postfix": ") ",
     "delete_cmd_prefix": "rm(",
     "library": "var_list.r",
     "varRefreshCmd": "cat(var_dic_list()) "
    }
   },
   "types_to_exclude": [
    "module",
    "function",
    "builtin_function_or_method",
    "instance",
    "_Feature"
   ],
   "window_display": false
  }
 },
 "nbformat": 4,
 "nbformat_minor": 5
}
